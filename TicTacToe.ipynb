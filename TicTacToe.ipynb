{
 "cells": [
  {
   "cell_type": "code",
   "execution_count": 60,
   "metadata": {
    "collapsed": false
   },
   "outputs": [],
   "source": [
    "import math\n",
    "import numpy as np\n",
    "import random\n",
    "\n",
    "\n",
    "class TicTacToe:\n",
    "    def __init__(self,size,epsilonGreedy,learningParam,symbol,primaryPlayer,valueF):\n",
    "        self.valueF = dict(valueF)\n",
    "        if symbol == 'O':\n",
    "            for key in self.valueF:\n",
    "                self.valueF[key] = 1 - self.valueF[key]\n",
    "                \n",
    "        self.epsilon = epsilonGreedy\n",
    "        self.symbol = symbol\n",
    "        self.primaryPlayer = primaryPlayer\n",
    "        self.learningParam = learningParam\n",
    "        self.size = size\n",
    "        #if self.symbol == 'X':\n",
    "        #    self.primaryPlayer = 1\n",
    "        #else:\n",
    "        #    self.primaryPlayer = -1\n",
    "        for i in range(0,100):\n",
    "            random.uniform(0,1)\n",
    "    \n",
    "    \n",
    "    def TakeStep(self,state,training):\n",
    "        if self.epsilon == 'random':\n",
    "            self.epsilon = random.uniform(0,1)\n",
    "            \n",
    "        for i in range(0,10):\n",
    "            random.uniform(0,1)\n",
    "        r = random.uniform(0,1)\n",
    "        if r < self.epsilon:\n",
    "            currentState = state\n",
    "            [state,winFlag] = self.StepRandom(state)\n",
    "        else:\n",
    "            currentState = state\n",
    "            [state,winFlag] = self.StepOptimal(state)\n",
    "        \n",
    "        if training == 1:\n",
    "            self.UpdateValueFunction(currentState,state)\n",
    "            \n",
    "        return [state,winFlag]\n",
    "    \n",
    "    \n",
    "    def UpdateValueFunction(self,prevState,newState):\n",
    "        self.valueF[prevState] = self.valueF[prevState] + self.learningParam*(self.valueF[newState]-self.valueF[prevState])        \n",
    "    \n",
    "    \n",
    "    def StepOptimal(self,state):\n",
    "        actions = self.PossibleActions(state)\n",
    "        noActions = len(actions)\n",
    "        if noActions == 0: #the board is filled, but no winner\n",
    "            return [state,None]\n",
    "        else:\n",
    "            current = self.valueF[state]\n",
    "            state = state[0:actions[0]] + self.symbol + state[actions[0]+1:]\n",
    "            proposed = self.valueF[state]\n",
    "            chosenActionSet = [actions[0]]\n",
    "            state = state[0:actions[0]] + '.' + state[actions[0]+1:]\n",
    "            for i in range(1,noActions):\n",
    "                action = actions[i]\n",
    "                state = state[0:action] + self.symbol + state[action+1:]\n",
    "                if self.valueF[state] > proposed:\n",
    "                    proposed = self.valueF[state]\n",
    "                    chosenActionSet = [action]\n",
    "                elif self.valueF[state] == proposed:\n",
    "                    chosenActionSet.append(action)\n",
    "                state = state[0:action] + '.' + state[action+1:]\n",
    "            \n",
    "            if len(chosenActionSet) > 1:\n",
    "                r = random.randint(0,len(chosenActionSet)-1)\n",
    "                chosenAction = chosenActionSet[r]\n",
    "            else:\n",
    "                chosenAction = chosenActionSet[0]\n",
    "                \n",
    "            state = state[0:chosenAction] + self.symbol + state[chosenAction+1:]\n",
    "            winFlag = DetermineWinLose(state,self.size,self.primaryPlayer)\n",
    "            return [state,winFlag]\n",
    "    \n",
    "    \n",
    "    def StepRandom(self,state):\n",
    "        actions = self.PossibleActions(state)\n",
    "        noActions = len(actions)\n",
    "        if noActions == 0: #the board is filled, but no winner\n",
    "            return [state,None]\n",
    "        else:\n",
    "            ind = random.randint(0,noActions-1)\n",
    "            chosenAction = actions[ind]\n",
    "            state = state[0:chosenAction] + self.symbol + state[chosenAction+1:]\n",
    "            \n",
    "            winFlag = DetermineWinLose(state,self.size,self.primaryPlayer)\n",
    "            return [state,winFlag]\n",
    "            \n",
    "    \n",
    "    \n",
    "    def PossibleActions(self,state):\n",
    "        actions = []\n",
    "        for i in range(0,self.size*self.size):\n",
    "            if state[i] == '.':\n",
    "                actions.append(i)\n",
    "                \n",
    "        return actions\n",
    "        \n",
    "\n",
    "        \n",
    "def CreateInitialState(size):\n",
    "    state = ''\n",
    "    for i in range(0,size*size):\n",
    "        state = state + '.'\n",
    "        \n",
    "    return state\n",
    "        \n",
    "\n",
    "def TrainingTicTacToe(noIterations,size,epsilon1,epsilon2,learningParam,valueFunction1,valueFunction2):\n",
    "    initialState = CreateInitialState(size)\n",
    "    #print \"Training...\"\n",
    "    player1 = TicTacToe(size,epsilon1,learningParam,'X',1,valueFunction1)\n",
    "    player2 = TicTacToe(size,epsilon2,learningParam,'O',1,valueFunction2)\n",
    "    \n",
    "    for i in range(0,noIterations):\n",
    "        [playHistory,winFlag] = Play(initialState,player1,player2,size,1)\n",
    "    \n",
    "    #print \"Training finished.\"\n",
    "    return [player1.valueF,player2.valueF]\n",
    "\n",
    "\n",
    "\n",
    "def TestingTicTacToe(noIterations,size,epsilon1,epsilon2,valueF1,valueF2):\n",
    "    initialState = CreateInitialState(size)\n",
    "    \n",
    "    #print \"Testing winning probability of solution...\"\n",
    "    player1 = TicTacToe(size,epsilon1,0,'X',1,valueF1)\n",
    "    player2 = TicTacToe(size,epsilon2,0,'O',1,valueF2)\n",
    "    \n",
    "    winRatio = 0\n",
    "    loseRatio = 0\n",
    "    for i in range(0,noIterations):\n",
    "        [playHistory,winFlag] = Play(initialState,player1,player2,size,0)\n",
    "        if winFlag == 1:\n",
    "            winRatio += winFlag\n",
    "        elif winFlag == -1:\n",
    "            loseRatio -= winFlag\n",
    "    \n",
    "    winRatio = float(winRatio)/noIterations\n",
    "    loseRatio = float(loseRatio)/noIterations\n",
    "    #print \"Winning probabilities found.\"\n",
    "    return [winRatio,loseRatio]\n",
    "        \n",
    "\n",
    "\n",
    "def TestingGeneralization(noIterations,size,epsilon1,epsilon2List,valueF1,valueF2):\n",
    "    \n",
    "    winRatio = 0\n",
    "    loseRatio = 0\n",
    "    for epsilon2 in epsilon2List:\n",
    "        [winRatioPart,loseRatioPart] = TestingTicTacToe(noIterations,size,epsilon1,epsilon2,valueF1,valueF2)\n",
    "        winRatio += winRatioPart\n",
    "        loseRatio += loseRatioPart\n",
    "        \n",
    "    winRatio = float(winRatio)/len(epsilon2List)\n",
    "    loseRatio = float(loseRatio)/len(epsilon2List)\n",
    "    \n",
    "    return [winRatio,loseRatio]\n",
    "    \n",
    "\n",
    "        \n",
    "def Play(state,player1,player2,size,training):\n",
    "    winFlag = 0\n",
    "    playHistory = [state]\n",
    "    \n",
    "    if random.uniform(0,1) > 0.5:\n",
    "        firstPlayer = player1\n",
    "        training1 = training\n",
    "        secondPlayer = player2\n",
    "        training2 = 0\n",
    "    else:\n",
    "        firstPlayer = player2\n",
    "        training1 = 0\n",
    "        secondPlayer = player1\n",
    "        training2 = training\n",
    "    \n",
    "    while winFlag == 0:\n",
    "        [state,winFlag] = firstPlayer.TakeStep(state,training1)\n",
    "        playHistory.append(state)\n",
    "        if winFlag != 0:\n",
    "            break\n",
    "        [state,winFlag] = secondPlayer.TakeStep(state,training2)\n",
    "        playHistory.append(state)\n",
    "        \n",
    "    return [playHistory,winFlag]\n",
    "    \n",
    "    \n",
    "    \n",
    "def InitializeValueFunction(size):\n",
    "    valueFunction = {}\n",
    "    \n",
    "    allStates = ListAllStates(size*size)\n",
    "    for state in allStates:\n",
    "        winFlag = DetermineWinLose(state,size,1)\n",
    "        if winFlag == 1: #win\n",
    "            valueFunction[state] = 1\n",
    "        elif winFlag == -1: #lose\n",
    "            valueFunction[state] = 0\n",
    "        else:\n",
    "            valueFunction[state] = 0.5\n",
    "            \n",
    "    return valueFunction\n",
    "        \n",
    "        \n",
    "def ListAllStates(linearSize):\n",
    "    if linearSize == 1:\n",
    "        states = []\n",
    "        states.append('X')\n",
    "        states.append('.')\n",
    "        states.append('O')\n",
    "        return states\n",
    "    else:\n",
    "        states = ListAllStates(linearSize-1)\n",
    "        statesNew = []\n",
    "        for state in states:\n",
    "            state1 = state + 'X'\n",
    "            state2 = state + '.'\n",
    "            state3 = state + 'O'\n",
    "            statesNew.append(state1)\n",
    "            statesNew.append(state2)\n",
    "            statesNew.append(state3)\n",
    "        return statesNew\n",
    "        \n",
    "\n",
    "def DetermineWinLose(state,size,primaryPlayer):\n",
    "    #primary player is 'X' if primaryPlayer=1\n",
    "    # 'O' if it is -1\n",
    "    stateMatrix = ConvertToMatrix(state,size)\n",
    "    \n",
    "    winFlag = FindWins(stateMatrix,size)\n",
    "    \n",
    "    return winFlag*primaryPlayer\n",
    "    \n",
    "    \n",
    "    \n",
    "\n",
    "def ConvertToMatrix(state,size):\n",
    "    mtx = np.zeros((size,size),dtype=int)\n",
    "    for i in range(0,len(state)):\n",
    "        [row,col] = ConvertToDoubleIndex(i,size)\n",
    "        if state[i] == 'X':\n",
    "            mtx[row,col] = 1\n",
    "        elif state[i] == 'O':\n",
    "            mtx[row,col] = -1\n",
    "    \n",
    "    return mtx    \n",
    "    \n",
    "\n",
    "def ConvertToDoubleIndex(el,size):\n",
    "    row = int(math.floor(el/size))\n",
    "    col = el%size\n",
    "    return [row,col]\n",
    "    \n",
    "    \n",
    "\n",
    "def FindWins(movesMtx,size):\n",
    "    mCols = sum(movesMtx)\n",
    "    for el in mCols:\n",
    "        if el == size:\n",
    "            return 1\n",
    "        if el == -size:\n",
    "            return -1\n",
    "    for i in range(0,size):\n",
    "        if sum(movesMtx[i,:]) == size:\n",
    "            return 1\n",
    "        if sum(movesMtx[i,:]) == -size:\n",
    "            return -1\n",
    "    if np.trace(movesMtx) == size:\n",
    "        return 1\n",
    "    if np.trace(movesMtx) == -size:\n",
    "        return -1\n",
    "    if np.trace(movesMtx[::-1]) == size:\n",
    "        return 1\n",
    "    if np.trace(movesMtx[::-1]) == -size:\n",
    "        return -1\n",
    "    \n",
    "    return 0"
   ]
  },
  {
   "cell_type": "markdown",
   "metadata": {},
   "source": [
    "## Training once"
   ]
  },
  {
   "cell_type": "code",
   "execution_count": 72,
   "metadata": {
    "collapsed": true
   },
   "outputs": [],
   "source": [
    "trainingPars = [0,10,100,1000,10000,100000,1000000]\n",
    "epsilon2List = [0.1,0.3,0.5,0.7,0.9]"
   ]
  },
  {
   "cell_type": "code",
   "execution_count": 73,
   "metadata": {
    "collapsed": false
   },
   "outputs": [
    {
     "name": "stdout",
     "output_type": "stream",
     "text": [
      "Creating Initial Value Function...\n",
      "Initial Value Function Done.\n",
      "Training and Testing solutions...\n",
      "Parameter 0 done.\n",
      "Parameter 10 done.\n",
      "Parameter 100 done.\n",
      "Parameter 1000 done.\n",
      "Parameter 10000 done.\n",
      "Parameter 100000 done.\n",
      "Parameter 1000000 done.\n",
      "Training and Testing finished.\n",
      "[0.5729, 0.5602, 0.5732, 0.6341, 0.6822, 0.6719, 0.6797]\n",
      "[0.3717, 0.386, 0.3714, 0.3223, 0.2823, 0.2918, 0.2798]\n",
      "[0.5686, 0.5631999999999999, 0.5788, 0.6451999999999999, 0.6786, 0.67, 0.6769999999999999]\n",
      "[0.3756, 0.3798, 0.3652, 0.31379999999999997, 0.2846, 0.2888, 0.28759999999999997]\n"
     ]
    }
   ],
   "source": [
    "size = 3\n",
    "epsilon1 = 0.01\n",
    "epsilon2 = 0.5\n",
    "learningParam = 0.1\n",
    "winRatioList = []\n",
    "loseRatioList = []\n",
    "winRatioRandList = []\n",
    "loseRatioRandList = []\n",
    "\n",
    "print \"Creating Initial Value Function...\"\n",
    "valueFunction = InitializeValueFunction(size)\n",
    "print \"Initial Value Function Done.\"\n",
    "\n",
    "print \"Training and Testing solutions...\"\n",
    "for el in trainingPars:\n",
    "    [valueF1,valueF2] = TrainingTicTacToe(el,size,epsilon1,epsilon2,learningParam,valueFunction,valueFunction)\n",
    "    [winRatio,loseRatio] = TestingTicTacToe(10000,size,epsilon1,epsilon2,valueF1,valueFunction)\n",
    "    [winRatioRand,loseRatioRand] = TestingGeneralization(1000,size,epsilon1,epsilon2List,valueF1,valueFunction)\n",
    "    winRatioList.append(winRatio)\n",
    "    loseRatioList.append(loseRatio)\n",
    "    winRatioRandList.append(winRatioRand)\n",
    "    loseRatioRandList.append(loseRatioRand)\n",
    "    print \"Parameter \" + str(el) + \" done.\"\n",
    "\n",
    "print \"Training and Testing finished.\"    \n",
    "\n",
    "print winRatioList\n",
    "print loseRatioList\n",
    "print winRatioRandList\n",
    "print loseRatioRandList"
   ]
  },
  {
   "cell_type": "code",
   "execution_count": null,
   "metadata": {
    "collapsed": true
   },
   "outputs": [],
   "source": [
    "#epsilon = 0.1 playing against epsilon = 0.5, with trainingParam = 0.1\n",
    "#noIterations = 10000 and 1000\n",
    "#epsilon2List = [0.1,0.3,0.5,0.7,0.9]\n",
    "\n",
    "#trainingPars = [0,10,100,1000,10000,100000,1000000]\n",
    "#[0.5514, 0.5417, 0.5544, 0.6084, 0.6432, 0.6427, 0.6511]\n",
    "#[0.3939, 0.3991, 0.3877, 0.342, 0.3171, 0.3185, 0.3104]\n",
    "#[0.5468, 0.5586, 0.5499999999999999, 0.6161999999999999, 0.6456, 0.6448, 0.6748]\n",
    "#[0.391, 0.3812, 0.39880000000000004, 0.3356, 0.314, 0.315, 0.2888]"
   ]
  },
  {
   "cell_type": "code",
   "execution_count": null,
   "metadata": {
    "collapsed": true
   },
   "outputs": [],
   "source": []
  },
  {
   "cell_type": "code",
   "execution_count": 7,
   "metadata": {
    "collapsed": false
   },
   "outputs": [],
   "source": [
    "import matplotlib\n",
    "import matplotlib.pyplot as plt"
   ]
  },
  {
   "cell_type": "code",
   "execution_count": 8,
   "metadata": {
    "collapsed": false
   },
   "outputs": [],
   "source": [
    "noIter = 5000\n",
    "x = [0.1,10,100,1000,10000,100000,1000000]\n",
    "y = [0.5468, 0.5586, 0.5499999999999999, 0.6161999999999999, 0.6456, 0.6448, 0.6748]\n",
    "y2 = [0.391, 0.3812, 0.39880000000000004, 0.3356, 0.314, 0.315, 0.2888]\n",
    "error = []\n",
    "error2 = []\n",
    "for i in range(0,len(y)):\n",
    "    error.append(math.sqrt(y[i]*noIter)/noIter)\n",
    "    error2.append(math.sqrt(y2[i]*noIter)/noIter)"
   ]
  },
  {
   "cell_type": "code",
   "execution_count": 9,
   "metadata": {
    "collapsed": false
   },
   "outputs": [
    {
     "data": {
      "image/png": "[encoded data removed]",
      "text/plain": [
       "<matplotlib.figure.Figure at 0xc3b21d0>"
      ]
     },
     "metadata": {},
     "output_type": "display_data"
    }
   ],
   "source": [
    "matplotlib.rcParams['axes.unicode_minus'] = False\n",
    "fig, ax = plt.subplots()\n",
    "ax.set_xscale('log')\n",
    "ax.plot(x,y, 'o')\n",
    "ax.errorbar(x,y,error)\n",
    "ax.plot(x,y2, 'o')\n",
    "ax.errorbar(x,y2,error2)\n",
    "plt.show()"
   ]
  },
  {
   "cell_type": "code",
   "execution_count": 14,
   "metadata": {
    "collapsed": true
   },
   "outputs": [],
   "source": [
    "noIter = 5000\n",
    "x = [0.1,10,100,1000,10000,100000,1000000]\n",
    "y = [0.5584, 0.5596, 0.5718000000000001, 0.6188, 0.6534, 0.6512, 0.6528]\n",
    "y2 = [0.381, 0.3804, 0.3712, 0.33280000000000004, 0.30480000000000007, 0.3116, 0.3096]\n",
    "error = []\n",
    "error2 = []\n",
    "for i in range(0,len(y)):\n",
    "    error.append(math.sqrt(y[i]*noIter)/noIter)\n",
    "    error2.append(math.sqrt(y2[i]*noIter)/noIter)"
   ]
  },
  {
   "cell_type": "code",
   "execution_count": 15,
   "metadata": {
    "collapsed": false
   },
   "outputs": [
    {
     "data": {
      "image/png": "[encoded data removed]",
      "text/plain": [
       "<matplotlib.figure.Figure at 0xc51d588>"
      ]
     },
     "metadata": {},
     "output_type": "display_data"
    }
   ],
   "source": [
    "matplotlib.rcParams['axes.unicode_minus'] = False\n",
    "fig, ax = plt.subplots()\n",
    "ax.set_xscale('log')\n",
    "ax.plot(x,y, 'o')\n",
    "ax.errorbar(x,y,error)\n",
    "ax.plot(x,y2, 'o')\n",
    "ax.errorbar(x,y2,error2)\n",
    "plt.show()"
   ]
  },
  {
   "cell_type": "markdown",
   "metadata": {
    "collapsed": true
   },
   "source": [
    "## Consecutive training"
   ]
  },
  {
   "cell_type": "code",
   "execution_count": 61,
   "metadata": {
    "collapsed": true
   },
   "outputs": [],
   "source": [
    "trainingPars = [0,10,100,1000,10000,100000,1000000]\n",
    "epsilon2List = [0.1,0.3,0.5,0.7,0.9]"
   ]
  },
  {
   "cell_type": "code",
   "execution_count": 62,
   "metadata": {
    "collapsed": false,
    "scrolled": true
   },
   "outputs": [
    {
     "name": "stdout",
     "output_type": "stream",
     "text": [
      "Creating Initial Value Function...\n",
      "Initial Value Function Done.\n",
      "Training and Testing solutions...\n",
      "Parameter 0 done.\n",
      "Parameter 10 done.\n",
      "Parameter 100 done.\n",
      "Parameter 1000 done.\n",
      "Parameter 10000 done.\n",
      "Parameter 100000 done.\n",
      "Parameter 1000000 done.\n",
      "Training and Testing finished.\n",
      "[0.5362, 0.5327999999999999, 0.5614, 0.6188, 0.6322, 0.658, 0.6496]\n",
      "[0.40040000000000003, 0.40580000000000005, 0.37939999999999996, 0.3324, 0.33140000000000003, 0.3, 0.312]\n"
     ]
    }
   ],
   "source": [
    "size = 3\n",
    "epsilon1 = 0.1\n",
    "epsilon2 = 0.1\n",
    "epsilon2 = 'random'\n",
    "learningParam = 0.1\n",
    "#winRatioList = []\n",
    "#loseRatioList = []\n",
    "winRatioRandList = []\n",
    "loseRatioRandList = []\n",
    "\n",
    "print \"Creating Initial Value Function...\"\n",
    "valueFunction = InitializeValueFunction(size)\n",
    "print \"Initial Value Function Done.\"\n",
    "\n",
    "print \"Training and Testing solutions...\"\n",
    "for el in trainingPars:\n",
    "    [valueF1,valueF2] = TrainingTicTacToe(el,size,epsilon1,epsilon2,learningParam,valueFunction,valueFunction)\n",
    "    #[winRatio,loseRatio] = TestingTicTacToe(10000,size,epsilon1,epsilon2,valueF1,valueFunction)\n",
    "    [winRatioRand,loseRatioRand] = TestingGeneralization(1000,size,epsilon1,epsilon2List,valueF1,valueFunction)\n",
    "    #winRatioList.append(winRatio)\n",
    "    #loseRatioList.append(loseRatio)\n",
    "    winRatioRandList.append(winRatioRand)\n",
    "    loseRatioRandList.append(loseRatioRand)\n",
    "    print \"Parameter \" + str(el) + \" done.\"\n",
    "\n",
    "print \"Training and Testing finished.\"    \n",
    "\n",
    "#print winRatioList\n",
    "#print loseRatioList\n",
    "print winRatioRandList\n",
    "print loseRatioRandList"
   ]
  },
  {
   "cell_type": "code",
   "execution_count": null,
   "metadata": {
    "collapsed": true
   },
   "outputs": [],
   "source": [
    "# Training eps = 0.1 against untrained random eps opponents, testing against untrained spectrum of eps's\n",
    "#[0.5362, 0.5327999999999999, 0.5614, 0.6188, 0.6322, 0.658, 0.6496]\n",
    "#[0.40040000000000003, 0.40580000000000005, 0.37939999999999996, 0.3324, 0.33140000000000003, 0.3, 0.312]"
   ]
  },
  {
   "cell_type": "code",
   "execution_count": null,
   "metadata": {
    "collapsed": true
   },
   "outputs": [],
   "source": [
    "# Training eps = 0.1 against its previous version; testing it against untrained spectrum of eps's\n",
    "#[0.6442,0.643,0.6334,0.6292]\n",
    "#[0.31479999999999997,0.3116,0.3334,0.3336]"
   ]
  },
  {
   "cell_type": "code",
   "execution_count": 41,
   "metadata": {
    "collapsed": true
   },
   "outputs": [],
   "source": [
    "# TRaining eps = 0.1 against its previous version; testing it against eps spectrum with eps=0.1's current value function\n",
    "#[0.5006,0.5793999999999999,0.555,0.5886,0.5668,0.5862,0.5691999999999999,0.583]\n",
    "#[0.4128,0.3604,0.384,0.35019999999999996,0.37279999999999996,0.3592,0.3678,0.3568]"
   ]
  },
  {
   "cell_type": "code",
   "execution_count": null,
   "metadata": {
    "collapsed": true
   },
   "outputs": [],
   "source": [
    "# Training eps = 0.1 against its untrained version, testing against untrained spectrum of eps's\n",
    "#[0.5428, 0.5444, 0.5496000000000001, 0.6172, 0.6444, 0.6516, 0.6484]\n",
    "#[0.3964, 0.3993999999999999, 0.386, 0.3296, 0.31779999999999997, 0.30639999999999995, 0.31060000000000004]"
   ]
  },
  {
   "cell_type": "markdown",
   "metadata": {},
   "source": [
    "### Training eps = 0.1 against its untrained version, testing against untrained spectrum of eps's"
   ]
  },
  {
   "cell_type": "code",
   "execution_count": 44,
   "metadata": {
    "collapsed": true
   },
   "outputs": [],
   "source": [
    "noIter = 5000\n",
    "x = [0.1,10,100,1000,10000,100000,1000000]\n",
    "y = [0.5428, 0.5444, 0.5496000000000001, 0.6172, 0.6444, 0.6516, 0.6484]\n",
    "y2 = [0.3964, 0.3993999999999999, 0.386, 0.3296, 0.31779999999999997, 0.30639999999999995, 0.31060000000000004]\n",
    "error = []\n",
    "error2 = []\n",
    "for i in range(0,len(y)):\n",
    "    error.append(math.sqrt(y[i]*noIter)/noIter)\n",
    "    error2.append(math.sqrt(y2[i]*noIter)/noIter)"
   ]
  },
  {
   "cell_type": "code",
   "execution_count": 45,
   "metadata": {
    "collapsed": false
   },
   "outputs": [
    {
     "data": {
      "image/png": "[encoded data removed]",
      "text/plain": [
       "<matplotlib.figure.Figure at 0xc6a28d0>"
      ]
     },
     "metadata": {},
     "output_type": "display_data"
    }
   ],
   "source": [
    "matplotlib.rcParams['axes.unicode_minus'] = False\n",
    "fig, ax = plt.subplots()\n",
    "ax.set_xscale('log')\n",
    "ax.plot(x,y, 'o')\n",
    "ax.errorbar(x,y,error)\n",
    "ax.plot(x,y2, 'o')\n",
    "ax.errorbar(x,y2,error2)\n",
    "plt.show()"
   ]
  },
  {
   "cell_type": "markdown",
   "metadata": {},
   "source": [
    "### Training eps = 0.1 against its previous version; testing it against eps spectrum with eps=0.1's current value function"
   ]
  },
  {
   "cell_type": "code",
   "execution_count": 42,
   "metadata": {
    "collapsed": true
   },
   "outputs": [],
   "source": [
    "noIter = 5000\n",
    "x = [1,2,3,4,5,6,7,8]\n",
    "y = [0.5006,0.5793999999999999,0.555,0.5886,0.5668,0.5862,0.5691999999999999,0.583]\n",
    "y2 = [0.4128,0.3604,0.384,0.35019999999999996,0.37279999999999996,0.3592,0.3678,0.3568]\n",
    "error = []\n",
    "error2 = []\n",
    "for i in range(0,len(y)):\n",
    "    error.append(math.sqrt(y[i]*noIter)/noIter)\n",
    "    error2.append(math.sqrt(y2[i]*noIter)/noIter)"
   ]
  },
  {
   "cell_type": "code",
   "execution_count": 43,
   "metadata": {
    "collapsed": false
   },
   "outputs": [
    {
     "data": {
      "image/png": "[encoded data removed]",
      "text/plain": [
       "<matplotlib.figure.Figure at 0xc6dadd8>"
      ]
     },
     "metadata": {},
     "output_type": "display_data"
    }
   ],
   "source": [
    "matplotlib.rcParams['axes.unicode_minus'] = False\n",
    "fig, ax = plt.subplots()\n",
    "#ax.set_xscale('log')\n",
    "ax.plot(x,y, 'o')\n",
    "ax.errorbar(x,y,error)\n",
    "ax.plot(x,y2, 'o')\n",
    "ax.errorbar(x,y2,error2)\n",
    "plt.show()"
   ]
  },
  {
   "cell_type": "markdown",
   "metadata": {},
   "source": [
    "### Training eps = 0.1 against its previous version; testing it against untrained spectrum of eps's"
   ]
  },
  {
   "cell_type": "code",
   "execution_count": 57,
   "metadata": {
    "collapsed": true
   },
   "outputs": [],
   "source": [
    "noIter = 5000\n",
    "x = [1,2,3,4]\n",
    "y = [0.6442,0.643,0.6334,0.6292]\n",
    "y2 = [0.31479999999999997,0.3116,0.3334,0.3336]\n",
    "error = []\n",
    "error2 = []\n",
    "for i in range(0,len(y)):\n",
    "    error.append(math.sqrt(y[i]*noIter)/noIter)\n",
    "    error2.append(math.sqrt(y2[i]*noIter)/noIter)"
   ]
  },
  {
   "cell_type": "code",
   "execution_count": 58,
   "metadata": {
    "collapsed": false
   },
   "outputs": [
    {
     "data": {
      "image/png": "[encoded data removed]",
      "text/plain": [
       "<matplotlib.figure.Figure at 0xc70b5c0>"
      ]
     },
     "metadata": {},
     "output_type": "display_data"
    }
   ],
   "source": [
    "matplotlib.rcParams['axes.unicode_minus'] = False\n",
    "fig, ax = plt.subplots()\n",
    "#ax.set_xscale('log')\n",
    "ax.plot(x,y, 'o')\n",
    "ax.errorbar(x,y,error)\n",
    "ax.plot(x,y2, 'o')\n",
    "ax.errorbar(x,y2,error2)\n",
    "plt.show()"
   ]
  },
  {
   "cell_type": "markdown",
   "metadata": {},
   "source": [
    "Notes:\n",
    "* Training against previous version (i.e. slowly evolving version) doesn't seem to work.\n",
    "* This could be due to the fact that we only train against _itself_, i.e. against eps = 0.1, and thus we \"overfit\", see the last figure for how it generalizes!\n",
    "\n",
    "Conclusion:\n",
    "* We don't have to abandon training against evolving versions, but we'd have to vary the this evolving opponent. It's not immediately clear how.\n",
    "* As a first step, we could try training against non-evolving, but more varied opponents (e.g. be randomizing the opponent's epsilon)"
   ]
  },
  {
   "cell_type": "code",
   "execution_count": null,
   "metadata": {
    "collapsed": true
   },
   "outputs": [],
   "source": [
    "# Training eps = 0.1 against untrained random eps opponents, testing against untrained spectrum of eps's\n",
    "#[0.5362, 0.5327999999999999, 0.5614, 0.6188, 0.6322, 0.658, 0.6496]\n",
    "#[0.40040000000000003, 0.40580000000000005, 0.37939999999999996, 0.3324, 0.33140000000000003, 0.3, 0.312]"
   ]
  },
  {
   "cell_type": "markdown",
   "metadata": {},
   "source": [
    "### Training eps = 0.1 against untrained random eps opponents, testing against untrained spectrum of eps's"
   ]
  },
  {
   "cell_type": "code",
   "execution_count": 63,
   "metadata": {
    "collapsed": true
   },
   "outputs": [],
   "source": [
    "noIter = 5000\n",
    "x = [0.1,10,100,1000,10000,100000,1000000]\n",
    "y = [0.5362, 0.5327999999999999, 0.5614, 0.6188, 0.6322, 0.658, 0.6496]\n",
    "y2 = [0.40040000000000003, 0.40580000000000005, 0.37939999999999996, 0.3324, 0.33140000000000003, 0.3, 0.312]\n",
    "error = []\n",
    "error2 = []\n",
    "for i in range(0,len(y)):\n",
    "    error.append(math.sqrt(y[i]*noIter)/noIter)\n",
    "    error2.append(math.sqrt(y2[i]*noIter)/noIter)"
   ]
  },
  {
   "cell_type": "code",
   "execution_count": 64,
   "metadata": {
    "collapsed": false
   },
   "outputs": [
    {
     "data": {
      "image/png": "[encoded data removed]",
      "text/plain": [
       "<matplotlib.figure.Figure at 0xa6cca20>"
      ]
     },
     "metadata": {},
     "output_type": "display_data"
    }
   ],
   "source": [
    "matplotlib.rcParams['axes.unicode_minus'] = False\n",
    "fig, ax = plt.subplots()\n",
    "ax.set_xscale('log')\n",
    "ax.plot(x,y, 'o')\n",
    "ax.errorbar(x,y,error)\n",
    "ax.plot(x,y2, 'o')\n",
    "ax.errorbar(x,y2,error2)\n",
    "plt.show()"
   ]
  },
  {
   "cell_type": "markdown",
   "metadata": {},
   "source": [
    "Comments:\n",
    "* Winning probability > 0.5 for untrained player is (still) troubling. When we tested against _itself_, winning prob. was ~ 0.5, so possibly eps = 0.1 is simply better on average than the spectrum of opponents we test against.\n",
    "* Trying to increase winning prob. above 2/3 didn't work so far. Maybe eps = 0.1 is not greedy enough?"
   ]
  },
  {
   "cell_type": "markdown",
   "metadata": {},
   "source": [
    "## Trained once"
   ]
  },
  {
   "cell_type": "code",
   "execution_count": null,
   "metadata": {
    "collapsed": true
   },
   "outputs": [],
   "source": [
    "#epsilon = 0.03 playing against epsilon = 0.5, with trainingParam = 0.1\n",
    "#noIterations = 10000 and 1000\n",
    "#epsilon2List = [0.1,0.3,0.5,0.7,0.9]\n",
    "\n",
    "#[0.5658, 0.557, 0.5758, 0.6396000000000001, 0.6712, 0.6596, 0.6714]\n",
    "#[0.37720000000000004, 0.3802, 0.36899999999999994, 0.31439999999999996, 0.29460000000000003, 0.30460000000000004, 0.29200000000000004]"
   ]
  },
  {
   "cell_type": "code",
   "execution_count": null,
   "metadata": {
    "collapsed": true
   },
   "outputs": [],
   "source": [
    "# epsilon = 0.1\n",
    "\n",
    "#[0.5452, 0.5516, 0.5494, 0.624, 0.6592, 0.6426, 0.6487999999999999]\n",
    "#[0.394, 0.3886, 0.39080000000000004, 0.33680000000000004, 0.29979999999999996, 0.3126, 0.312]"
   ]
  },
  {
   "cell_type": "code",
   "execution_count": null,
   "metadata": {
    "collapsed": true
   },
   "outputs": [],
   "source": [
    "# epsilon = 0.01\n",
    "\n",
    "#[0.5686, 0.5631999999999999, 0.5788, 0.6451999999999999, 0.6786, 0.67, 0.6769999999999999]\n",
    "#[0.3756, 0.3798, 0.3652, 0.31379999999999997, 0.2846, 0.2888, 0.28759999999999997]"
   ]
  },
  {
   "cell_type": "code",
   "execution_count": 74,
   "metadata": {
    "collapsed": true
   },
   "outputs": [],
   "source": [
    "noIter = 5000\n",
    "x = [0.1,10,100,1000,10000,100000,1000000]\n",
    "y = [0.5452, 0.5516, 0.5494, 0.624, 0.6592, 0.6426, 0.6487999999999999]\n",
    "y2 = [0.394, 0.3886, 0.39080000000000004, 0.33680000000000004, 0.29979999999999996, 0.3126, 0.312]\n",
    "y_03 = [0.5658, 0.557, 0.5758, 0.6396000000000001, 0.6712, 0.6596, 0.6714]\n",
    "y2_03 = [0.37720000000000004, 0.3802, 0.36899999999999994, 0.31439999999999996, 0.29460000000000003, 0.30460000000000004, 0.29200000000000004]\n",
    "y_01 = [0.5686, 0.5631999999999999, 0.5788, 0.6451999999999999, 0.6786, 0.67, 0.6769999999999999]\n",
    "y2_01 = [0.3756, 0.3798, 0.3652, 0.31379999999999997, 0.2846, 0.2888, 0.28759999999999997]\n",
    "error = []\n",
    "error2 = []\n",
    "error_03 = []\n",
    "error2_03 = []\n",
    "error_01 = []\n",
    "error2_01 = []\n",
    "for i in range(0,len(y)):\n",
    "    error.append(math.sqrt(y[i]*noIter)/noIter)\n",
    "    error2.append(math.sqrt(y2[i]*noIter)/noIter)\n",
    "    error_03.append(math.sqrt(y_03[i]*noIter)/noIter)\n",
    "    error2_03.append(math.sqrt(y2_03[i]*noIter)/noIter)\n",
    "    error_01.append(math.sqrt(y_03[i]*noIter)/noIter)\n",
    "    error2_01.append(math.sqrt(y2_03[i]*noIter)/noIter)"
   ]
  },
  {
   "cell_type": "code",
   "execution_count": 75,
   "metadata": {
    "collapsed": false
   },
   "outputs": [
    {
     "data": {
      "image/png": "[encoded data removed]",
      "text/plain": [
       "<matplotlib.figure.Figure at 0xab83dd8>"
      ]
     },
     "metadata": {},
     "output_type": "display_data"
    }
   ],
   "source": [
    "matplotlib.rcParams['axes.unicode_minus'] = False\n",
    "fig, ax = plt.subplots()\n",
    "ax.set_xscale('log')\n",
    "#ax.plot(x,y, 'o')\n",
    "ax.errorbar(x,y,error)\n",
    "#ax.plot(x,y2, 'o')\n",
    "ax.errorbar(x,y2,error2)\n",
    "#ax.plot(x,y_03, 'o')\n",
    "ax.errorbar(x,y_03,error_03)\n",
    "#ax.plot(x,y2_03, 'o')\n",
    "ax.errorbar(x,y2_03,error2_03)\n",
    "#ax.plot(x,y_01, 'o')\n",
    "ax.errorbar(x,y_01,error_01)\n",
    "#ax.plot(x,y2_01, 'o')\n",
    "ax.errorbar(x,y2_01,error2_01)\n",
    "plt.show()"
   ]
  },
  {
   "cell_type": "code",
   "execution_count": null,
   "metadata": {
    "collapsed": true
   },
   "outputs": [],
   "source": []
  }
 ],
 "metadata": {
  "kernelspec": {
   "display_name": "Python 2",
   "language": "python",
   "name": "python2"
  },
  "language_info": {
   "codemirror_mode": {
    "name": "ipython",
    "version": 2
   },
   "file_extension": ".py",
   "mimetype": "text/x-python",
   "name": "python",
   "nbconvert_exporter": "python",
   "pygments_lexer": "ipython2",
   "version": "2.7.13"
  }
 },
 "nbformat": 4,
 "nbformat_minor": 2
}
